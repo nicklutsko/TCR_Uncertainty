{
 "cells": [
  {
   "cell_type": "markdown",
   "metadata": {},
   "source": [
    "Notebook for the analysis in Lutsko and Popp (2019). This notebook produces 3 figures:<br/>\n",
    "    -pdfs of EBM parameters + TCR sensitivity to uncertainty in each parameter (Part 1)<br/>\n",
    "    -ratio of TCR's sensitivity to each parameter in the EBM (except for Forcing), divided by TCR's sensitivity to uncertainty in the forcing. (Part 1)<br/>\n",
    "    -Test of sensitivity of \"tuned\" climate sensitivity to assumptions made about the historical forcing (Part 2)"
   ]
  },
  {
   "cell_type": "code",
   "execution_count": 338,
   "metadata": {},
   "outputs": [],
   "source": [
    "import numpy as np\n",
    "import matplotlib.pylab as plt\n",
    "from matplotlib.ticker import MultipleLocator\n",
    "from sklearn.linear_model import LinearRegression\n",
    "from scipy.optimize import curve_fit, least_squares\n",
    "import scipy.stats"
   ]
  },
  {
   "cell_type": "markdown",
   "metadata": {},
   "source": [
    "# Part 1"
   ]
  },
  {
   "cell_type": "markdown",
   "metadata": {},
   "source": [
    "## Fit the EBM"
   ]
  },
  {
   "cell_type": "markdown",
   "metadata": {},
   "source": [
    "## Functions for fitting without epsilon"
   ]
  },
  {
   "cell_type": "code",
   "execution_count": 237,
   "metadata": {},
   "outputs": [],
   "source": [
    "def func( t, a, tau_s):\n",
    "    return np.log(a) - t / tau_s\n",
    "\n",
    "def fit_data( t1, r1):\n",
    "    #Do Geoffroy fitting to get EBM parameters\n",
    "    \n",
    "    #Get F and \\lambda\n",
    "    regr = LinearRegression()\n",
    "    # Train the model using the training sets\n",
    "    regr.fit(t1[:, np.newaxis], r1[:, np.newaxis])\n",
    "    lam = -regr.coef_\n",
    "    F = regr.intercept_ \n",
    "    \n",
    "    t_eq = F / lam\n",
    "    \n",
    "    #Now get as and \\taus\n",
    "    x = np.log( 1. - t1[30:] / t_eq) #Fit years 30-150\n",
    "    t = np.arange(30, 150, 1)\n",
    "    x = x[0]\n",
    "    \n",
    "    init_vals = [1, 150.]  # initial guesses for a and tau_s\n",
    "    best_vals, covar = curve_fit(func, t, x, p0=init_vals)\n",
    "    a_s = best_vals[0]\n",
    "    tau_s = best_vals[1]\n",
    "\n",
    "    a_f = 1. - a_s\n",
    "        \n",
    "    #get \\tau_f from first 10 years\n",
    "    t = np.arange(1, 11, 1)\n",
    "    tau_f = np.mean( t / (np.log(a_f) - np.log(1. - t1[:10] / t_eq - a_s * np.exp( -t / tau_s) )) )\n",
    "    \n",
    "    c = lam/(a_f / tau_f + a_s / tau_s)\n",
    "    c0 = lam * (a_f * tau_f + a_s * tau_s) - c\n",
    "    gamma = c0 / (a_f * tau_s + a_s * tau_f)\n",
    "\n",
    "    return F, lam, c, c0, gamma, tau_s, tau_f, a_f, a_s"
   ]
  },
  {
   "cell_type": "markdown",
   "metadata": {},
   "source": [
    "## Functions for adjusting for epsilon"
   ]
  },
  {
   "cell_type": "code",
   "execution_count": 238,
   "metadata": {},
   "outputs": [],
   "source": [
    "def fit_data_2( t1, r1, F, lam, eps):\n",
    "    #Fit with epsilon\n",
    "    \n",
    "    t_eq = F / lam\n",
    "    #Get as and \\taus\n",
    "    x = np.log( 1. - t1[30:] / t_eq) #Fit years 30-150\n",
    "    t = np.arange(30, 150, 1)\n",
    "    x = x[0]\n",
    "    \n",
    "    init_vals = [1, 218.]  # initial guesses for a and tau_s\n",
    "    best_vals, covar = curve_fit(func, t, x, p0=init_vals)\n",
    "    a_s = best_vals[0]\n",
    "    tau_s = best_vals[1]\n",
    "\n",
    "    a_f = 1. - a_s\n",
    "    \n",
    "    #get \\tau_f from first 10 years\n",
    "    t = np.arange(1, 11, 1)\n",
    "    tau_f = np.mean( t / (np.log(a_f) - np.log(1. - t1[:10] / t_eq - a_s * np.exp( -t / tau_s) )) )\n",
    "    \n",
    "    c = lam/(a_f / tau_f + a_s / tau_s) \n",
    "    c0 = (lam * (a_f * tau_f + a_s * tau_s) - c) / eps\n",
    "    gamma = c0 / (a_f * tau_s + a_s * tau_f) / eps\n",
    "\n",
    "    return c, c0, gamma\n",
    "\n",
    "def calc_params( lam, gam, eps, c, c0):\n",
    "    #Calculate EBM parameters\n",
    "    \n",
    "    b = (lam + gam * eps) / c + gam / c0\n",
    "    bs = (lam + gam * eps) / c - gam / c0\n",
    "    \n",
    "    delta = b **2 - 4. * lam * gam / (c * c0)\n",
    "    \n",
    "    tau_f = c * c0 / (2. * lam * gam) * (b - np.sqrt( delta))\n",
    "    tau_s = c * c0 / (2. * lam * gam) * (b + np.sqrt( delta))\n",
    " \n",
    "    phi_f = c / (2. * eps * gam) * (bs - np.sqrt( delta))\n",
    "    phi_s = c / (2. * eps * gam) * (bs + np.sqrt( delta))\n",
    "    \n",
    "    a_f = phi_s * tau_f * lam / (c * (phi_s - phi_f))\n",
    "    a_s = -phi_f * tau_s * lam / (c * (phi_s - phi_f))\n",
    "    \n",
    "    return tau_f, tau_s, a_f, a_s, phi_f, phi_s\n",
    "\n",
    "def adjust( t1, r1, F, lam, gamma, c, c0):\n",
    "    #Adjust F, lambda and epsilon\n",
    "    init_vals = [F, lam, 1.]\n",
    "    t = np.arange( 1, len( t1) + 1, 1)\n",
    "    \n",
    "    def EBM_func( x):\n",
    "        #minimize r1 - (F - \\lambda T - (epsilon - 1) * H)\n",
    "        return r1 - x[0] + x[1] * t1 + (x[2] - 1.) * H[0]\n",
    "    \n",
    "    for i in range( 10 ):\n",
    "    \n",
    "        tau_f, tau_s, a_f, a_s, phi_f, phi_s = calc_params( init_vals[1], gamma, init_vals[2], c, c0)\n",
    "        T1 = init_vals[0] / init_vals[1] * (a_f * (1. - np.exp( -t / tau_f)) + a_s * (1. - np.exp( -t / tau_s))) \n",
    "        T2 = init_vals[0] / init_vals[1] * (phi_f * a_f * (1. - np.exp( -t / tau_f)) + phi_s * a_s * (1. - np.exp( -t / tau_s)))\n",
    "\n",
    "        H = gamma * (T1 - T2)\n",
    "        T = np.array( [t1[:], t1[:]] )\n",
    "        best_vals = least_squares( EBM_func, x0 = init_vals)\n",
    "        init_vals[:] = best_vals.x\n",
    "        \n",
    "        #c, c0, gamma = fit_data_2( t1, r1, init_vals[0], init_vals[1], init_vals[2])\n",
    "\n",
    "    return init_vals[0], init_vals[1], gamma, init_vals[2], c, c0 #F, lambda, gamma, epsilon, c, c0\n",
    "        "
   ]
  },
  {
   "cell_type": "markdown",
   "metadata": {},
   "source": [
    "## Fit the CMIP5 runs"
   ]
  },
  {
   "cell_type": "code",
   "execution_count": 255,
   "metadata": {},
   "outputs": [
    {
     "name": "stderr",
     "output_type": "stream",
     "text": [
      "/home/nick/anaconda2/lib/python2.7/site-packages/ipykernel_launcher.py:2: RuntimeWarning: invalid value encountered in log\n",
      "  \n"
     ]
    }
   ],
   "source": [
    "mods = [\"GFDL-CM3\", \"GFDL-ESM2G\", \"GFDL-ESM2M\", \"CCSM4\", \"IPSL-CM5A-LR\", \"HadGEM2-ES\", \n",
    "\"GISS-E2-R\", \"MPI-ESM-LR\", \"MIROC5\", \"CSIRO-Mk3-6-0\", \"INM-CM4\", \"FGOALS-s2\", \"BCC-CSM1-1\", \n",
    "\"CNRM-CM5\", \"BNU-ESM\", \"MRI-CGCM3\", \"NorESM1-M\", \"CanESM2\" ]\n",
    "v = 6\n",
    "l = len(mods)\n",
    "var = np.zeros( ( v, l ))\n",
    "opts = [0, 1, 2, 3, 4, 5, 7, 8, 9, 10, 11, 12, 13, 14, 15, 16, 17]\n",
    "for i in opts:\n",
    "    t1 = np.load( \"CMIP5_data/\" + mods[i] + \"_temp.dat\" )\n",
    "    r1 = np.load( \"CMIP5_data/\" + mods[i] + \"_net_TOA.dat\" )\n",
    "    #First fitting:\n",
    "    F, lam, c, c0, gamma, tau_s, tau_f, a_f, a_s = fit_data( t1, r1 )\n",
    "    #Now adjust\n",
    "    var[:, i] = adjust( t1, r1, F, lam, gamma, c, c0)\n",
    "\n",
    "var[0] /= 2. #Convert to 2xCO2\n",
    "\n",
    "var = np.ma.masked_where( var == 0, var)"
   ]
  },
  {
   "cell_type": "markdown",
   "metadata": {},
   "source": [
    "# Plot Results"
   ]
  },
  {
   "cell_type": "code",
   "execution_count": 256,
   "metadata": {},
   "outputs": [
    {
     "name": "stdout",
     "output_type": "stream",
     "text": [
      "[[1.00000000e+00 4.54563124e-01 6.34543158e-01 6.25419581e-01\n",
      "  6.04907785e-01 4.65252656e-02]\n",
      " [4.54563124e-01 1.00000000e+00 4.84732651e-01 1.29428976e-01\n",
      "  4.87291405e-01 3.10329064e-01]\n",
      " [6.34543158e-01 4.84732651e-01 1.00000000e+00 6.70753094e-01\n",
      "  4.16144588e-01 5.91429773e-02]\n",
      " [6.25419581e-01 1.29428976e-01 6.70753094e-01 1.00000000e+00\n",
      "  3.76716350e-01 1.52807115e-04]\n",
      " [6.04907785e-01 4.87291405e-01 4.16144588e-01 3.76716350e-01\n",
      "  1.00000000e+00 2.17126554e-01]\n",
      " [4.65252656e-02 3.10329064e-01 5.91429773e-02 1.52807115e-04\n",
      "  2.17126554e-01 1.00000000e+00]]\n"
     ]
    },
    {
     "data": {
      "image/png": "[encoded data removed]",
      "text/plain": [
       "<Figure size 432x288 with 2 Axes>"
      ]
     },
     "metadata": {
      "needs_background": "light"
     },
     "output_type": "display_data"
    }
   ],
   "source": [
    "#Take mean and std\n",
    "var_mean = np.mean( var, axis = 1 )\n",
    "var_std = np.std( np.ma.masked_where( var > 200., var ), axis = 1) #Note the outlier\n",
    "\n",
    "#Make contour plot of r^2 values between the parameters, also print correlations\n",
    "corrs = np.zeros( ( v, v ) )\n",
    "for i in range( v ):\n",
    "    for j in range( v ):\n",
    "        corrs[i, j] = np.corrcoef( var[i], var[j] )[0, 1] ** 2\n",
    "\n",
    "print corrs\n",
    "ax = plt.subplot(1, 1, 1)\n",
    "plt.contourf( corrs[::-1, ::-1],  cmap = plt.cm.Greys )\n",
    "cb = plt.colorbar()\n",
    "cb.set_label(\"$r^2$\", fontsize = 14)\n",
    "\n",
    "plt.xticks([0.5, 1.5, 2.5, 3.5, 4.5, 5.5], [\"$F$\", \"$C$\", \"$C_0$\", \"$\\\\gamma$\", \"$\\\\lambda$\", \"$\\\\epsilon$\"], fontsize = 14)\n",
    "plt.yticks([0.5, 1.5, 2.5, 3.5, 4.5, 5.5], [\"$F$\", \"$C$\", \"$C_0$\", \"$\\\\gamma$\", \"$\\\\lambda$\", \"$\\\\epsilon$\"], fontsize = 14)\n",
    "\n",
    "ax.tick_params( axis = 'x', which = 'both', bottom=\"off\", top = \"off\", labelbottom = \"on\")                  \n",
    "ax.tick_params( axis = 'y', which = 'both', bottom=\"off\", top=\"off\",  labelbottom=\"off\", left=\"off\", right=\"off\", labelleft=\"on\")        \n",
    "\n",
    "plt.show()\n"
   ]
  },
  {
   "cell_type": "markdown",
   "metadata": {},
   "source": [
    "## Now do EBM integrations<br>\n",
    "\n",
    "The easiest way to do this is to vary each parameter by \\pm 1std and \\pm 2std, but then can't make the box and whisker plots. So instead do the equivalent thing and run Monte-Carlo simulations, varying one parameter at a time"
   ]
  },
  {
   "cell_type": "code",
   "execution_count": 284,
   "metadata": {},
   "outputs": [
    {
     "name": "stdout",
     "output_type": "stream",
     "text": [
      "Doing:  0\n",
      "Doing:  1\n",
      "Doing:  2\n",
      "Doing:  3\n",
      "Doing:  4\n",
      "Doing:  5\n"
     ]
    }
   ],
   "source": [
    "t = 141\n",
    "tt = 10000\n",
    "mean_T = np.zeros( ( ( v, tt, t ) ) )\n",
    "\n",
    "def forcing( co2, f ):\n",
    "\t#Convert CO2 value to forcing\n",
    "\treturn (co2 - 1.) * f \n",
    "\n",
    "def T1( c, f, l, g, t_1, t_2, eps ):\n",
    "\t#RHS of equation for T_1\n",
    "\treturn 1. / c * (f - l * t_1 - eps * g * (t_1 - t_2) )\n",
    "\n",
    "def T2( c, g, t_1, t_2 ):\n",
    "\t#RHS of equation for T_2\n",
    "\treturn 1. / c * g * (t_1 - t_2)\n",
    "\n",
    "for k in range( v ):\n",
    "    \n",
    "    print \"Doing: \", k\n",
    "\n",
    "    for j in range( tt ):\n",
    "\n",
    "        Co2 = np.ones( t )\n",
    "        For = np.zeros( t )\n",
    "        T_1 = np.zeros( t )\n",
    "        T_2 = np.zeros( t )\n",
    "\n",
    "        v_x = np.random.normal( loc = var_mean[k], scale = var_std[k] )\n",
    "            \n",
    "        for i in range( 1, t ):\n",
    "            Co2[i] = Co2[i - 1] * 1.01\n",
    "            if k == 0:\n",
    "                For[i] = forcing(Co2[i], v_x)\n",
    "            else:\n",
    "                For[i] = forcing(Co2[i], var_mean[0])\n",
    "            \n",
    "            if k == 1:\n",
    "                T_1[i] = T_1[i - 1] + T1( var_mean[4], For[i], v_x, var_mean[2], T_1[i - 1], T_2[i - 1], var_mean[3])\n",
    "            elif k == 2:\n",
    "                T_1[i] = T_1[i - 1] + T1( var_mean[4], For[i], var_mean[1], v_x, T_1[i - 1], T_2[i - 1], var_mean[3])\n",
    "            elif k == 3:\n",
    "                T_1[i] = T_1[i - 1] + T1( var_mean[4], For[i], var_mean[1], var_mean[2], T_1[i - 1], T_2[i - 1], v_x)\n",
    "            elif k == 4:\n",
    "                T_1[i] = T_1[i - 1] + T1( v_x, For[i], var_mean[1], var_mean[2], T_1[i - 1], T_2[i - 1], var_mean[3])\n",
    "            else:\n",
    "                T_1[i] = T_1[i - 1] + T1( var_mean[4], For[i], var_mean[1], var_mean[2], T_1[i - 1], T_2[i - 1], var_mean[3])\n",
    "\n",
    "            if k == 5:\n",
    "                T_2[i] = T_2[i - 1] + T2( v_x, var_mean[2], T_1[i - 1], T_2[i - 1])\n",
    "            elif k == 2:\n",
    "                T_2[i] = T_2[i - 1] + T2( var_mean[5], v_x, T_1[i - 1], T_2[i - 1])\n",
    "            else:\n",
    "                T_2[i] = T_2[i - 1] + T2( var_mean[5], var_mean[2], T_1[i - 1], T_2[i - 1])\n",
    "\n",
    "        mean_T[k, j] = T_1[:]"
   ]
  },
  {
   "cell_type": "code",
   "execution_count": 281,
   "metadata": {},
   "outputs": [
    {
     "name": "stdout",
     "output_type": "stream",
     "text": [
      "Doing:  0\n",
      "Doing:  1\n",
      "Doing:  2\n",
      "Doing:  3\n",
      "Doing:  4\n",
      "Doing:  5\n"
     ]
    }
   ],
   "source": [
    "#Repeat with all the parameters having the same relative uncertainty\n",
    "mean_T2 = np.zeros( ( ( v, tt, t ) ) )\n",
    "\n",
    "for k in range( v ):\n",
    "    \n",
    "    print \"Doing: \", k\n",
    "\n",
    "    for j in range( tt ):\n",
    "\n",
    "        Co2 = np.ones( t )\n",
    "        For = np.zeros( t )\n",
    "        T_1 = np.zeros( t )\n",
    "        T_2 = np.zeros( t )\n",
    "\n",
    "        v_x = np.random.normal( loc = var_mean[k], scale = var_std[1] * var_mean[k] / var_mean[1] )\n",
    "            \n",
    "        for i in range( 1, t ):\n",
    "            Co2[i] = Co2[i - 1] * 1.01\n",
    "            if k == 0:\n",
    "                For[i] = forcing(Co2[i], v_x)\n",
    "            else:\n",
    "                For[i] = forcing(Co2[i], var_mean[0])\n",
    "            \n",
    "            if k == 1:\n",
    "                T_1[i] = T_1[i - 1] + T1( var_mean[4], For[i], v_x, var_mean[2], T_1[i - 1], T_2[i - 1], var_mean[3])\n",
    "            elif k == 2:\n",
    "                T_1[i] = T_1[i - 1] + T1( var_mean[4], For[i], var_mean[1], v_x, T_1[i - 1], T_2[i - 1], var_mean[3])\n",
    "            elif k == 3:\n",
    "                T_1[i] = T_1[i - 1] + T1( var_mean[4], For[i], var_mean[1], var_mean[2], T_1[i - 1], T_2[i - 1], v_x)\n",
    "            elif k == 4:\n",
    "                T_1[i] = T_1[i - 1] + T1( v_x, For[i], var_mean[1], var_mean[2], T_1[i - 1], T_2[i - 1], var_mean[3])\n",
    "            else:\n",
    "                T_1[i] = T_1[i - 1] + T1( var_mean[4], For[i], var_mean[1], var_mean[2], T_1[i - 1], T_2[i - 1], var_mean[3])\n",
    "\n",
    "            if k == 5:\n",
    "                T_2[i] = T_2[i - 1] + T2( v_x, var_mean[2], T_1[i - 1], T_2[i - 1])\n",
    "            elif k == 2:\n",
    "                T_2[i] = T_2[i - 1] + T2( var_mean[5], v_x, T_1[i - 1], T_2[i - 1])\n",
    "            else:\n",
    "                T_2[i] = T_2[i - 1] + T2( var_mean[5], var_mean[2], T_1[i - 1], T_2[i - 1])\n",
    "\n",
    "        mean_T2[k, j] = T_1[:]\n",
    "    "
   ]
  },
  {
   "cell_type": "code",
   "execution_count": 271,
   "metadata": {},
   "outputs": [
    {
     "name": "stderr",
     "output_type": "stream",
     "text": [
      "/home/nick/anaconda2/lib/python2.7/site-packages/ipykernel_launcher.py:11: UserWarning: Warning: converting a masked element to nan.\n",
      "  # This is added back by InteractiveShellApp.init_path()\n",
      "/home/nick/anaconda2/lib/python2.7/site-packages/ipykernel_launcher.py:13: RuntimeWarning: divide by zero encountered in divide\n",
      "  del sys.path[0]\n",
      "/home/nick/anaconda2/lib/python2.7/site-packages/ipykernel_launcher.py:13: UserWarning: Warning: converting a masked element to nan.\n",
      "  del sys.path[0]\n",
      "/home/nick/anaconda2/lib/python2.7/site-packages/ipykernel_launcher.py:14: RuntimeWarning: divide by zero encountered in divide\n",
      "  \n",
      "/home/nick/anaconda2/lib/python2.7/site-packages/ipykernel_launcher.py:14: UserWarning: Warning: converting a masked element to nan.\n",
      "  \n"
     ]
    }
   ],
   "source": [
    "#Calculate TCR's using the raw model values\n",
    "mod_vals = np.zeros( l )\n",
    "for j in range( l ):\n",
    "\tCo2 = np.ones( 70 )\n",
    "\tFor = np.zeros( 70 )\n",
    "\tT_1 = np.zeros( 70 )\n",
    "\tT_2 = np.zeros( 70 )\n",
    "\n",
    "\tfor i in range( 1, 70 ):\n",
    "\t\tCo2[i] = Co2[i - 1] * 1.01\n",
    "\t\tFor[i] = (Co2[i] - 1.) * var[0, j] \n",
    "\t\t\n",
    "\t\tT_1[i] = T_1[i - 1] + 1. / var[4, j] * ( For[i - 1] - var[1, j] * T_1[i - 1] - var[2, j] * var[3, j] * (T_1[i - 1] - T_2[i - 1]) )\n",
    "\t\tT_2[i] = T_2[i - 1] + 1. / var[5, j] * ( var[2, j] * (T_1[i - 1] - T_2[i - 1]) )\n",
    "\tmod_vals[j] = T_1[i]"
   ]
  },
  {
   "cell_type": "code",
   "execution_count": 285,
   "metadata": {},
   "outputs": [
    {
     "name": "stderr",
     "output_type": "stream",
     "text": [
      "/home/nick/anaconda2/lib/python2.7/site-packages/ipykernel_launcher.py:10: RuntimeWarning: divide by zero encountered in divide\n",
      "  # Remove the CWD from sys.path while we load stuff.\n"
     ]
    },
    {
     "data": {
      "image/png": "[encoded data removed]",
      "text/plain": [
       "<Figure size 864x576 with 3 Axes>"
      ]
     },
     "metadata": {
      "needs_background": "light"
     },
     "output_type": "display_data"
    }
   ],
   "source": [
    "#Plot!\n",
    "fig = plt.figure( figsize = (12, 8) )\n",
    "plt.subplots_adjust(left = 0.1, right = 0.98, bottom = 0.06, top = 0.95, hspace = 0.3)\n",
    "\n",
    "cs = [(31 / 255., 119 / 255., 180 / 255.), (44. / 255., 160 / 255., 44 / 255.), (214 / 255., 39 / 255., 40 / 255.), (255 / 255., 127 / 255., 14 / 255.) ]\n",
    "\n",
    "#TCR and ECS values calculated elsewhere\n",
    "TCR =  [2., 1.1, 1.3, 1.8, 2., 2.5, 1.5, 2., 1.5, 1.8, 1.3, 2.4, 1.7, 2.1, 2.6, 1.6, 1.4, 2.4]\n",
    "ECS = [ 2.5, 3., 4.25, 5.5, 2.25, 3.9, 2.8, 5.1, 1.9, 4.5, 2.9, 3.2, 3.9, 2.7, 3.25, 3.9, 4.1, 2.31]\n",
    "data = [np.std( var[0] ) / np.mean( var[0] ), np.std( 1. / var[1] ) / np.mean( 1. / var[1] ), np.std( var[4] ) / np.mean( var[4] ), np.std( var[5] ) / np.mean( var[5] ), np.std( var[2] ) / np.mean( var[2] ), np.std( var[3] ) / np.mean( var[3] ) ]\n",
    "\n",
    "k = [1., 2., 3., 4., 5., 6.]\n",
    "k2 = 7.\n",
    "k3 = 8.\n",
    "\n",
    "ax = plt.subplot(2, 2, 1)\n",
    "plt.title( \"a)\", fontsize = 14)\n",
    "plt.bar( k, np.array(data) * 100., width = 0.7, color = cs[0], edgecolor = cs[0], linewidth = 0., alpha = 0.4 )\n",
    "plt.bar( k3, np.std( ECS ) / np.mean( ECS ) * 100., width = 0.7, color = cs[3], edgecolor = cs[3], linewidth = 0.)#, alpha = 0.5 )\n",
    "plt.bar( k2, np.std( TCR ) / np.mean( TCR ) * 100., width = 0.7, color = cs[3], edgecolor = cs[3], linewidth = 0.)#, alpha = 0.5 )\n",
    "\n",
    "plt.ylabel(\"Relative Uncertainty [%]\", fontsize = 14)\n",
    "\n",
    "plt.xticks([1., 2., 3., 4., 5., 6., 7., 8.], [\"$F$\", \"$\\\\lambda$\", \"$c$\", \"$c_0$\", \"$\\\\gamma$\", \"$\\\\epsilon$\", \"TCR\", \"ECS\"], fontsize = 14)\n",
    "\n",
    "ax.tick_params( axis = 'x', which = 'both', bottom=\"on\", top = \"off\", labelbottom = \"on\", direction = 'out')                  \n",
    "ax.tick_params( axis = 'y', which = 'both', bottom=\"off\", top=\"off\",  labelbottom=\"off\", left=\"on\", right=\"off\", labelleft=\"on\", direction = 'out')                                                                                        \n",
    "\n",
    "plt.xlim([0., 9.])\n",
    "\n",
    "ax.tick_params(length = 5, which = 'both')\n",
    "\n",
    "majorLocator = MultipleLocator(1)\n",
    "minorLocator = MultipleLocator(.5)\n",
    "\n",
    "data = [mean_T[0, :, 70], mean_T[1, :, 70], mean_T[2, :, 70], mean_T[3, :, 70], mean_T[4, :, 70], mean_T[5, :, 70] ]\n",
    "ax = plt.subplot(2, 2, 2 )\n",
    "plt.title(\"b)\", fontsize = 14)\n",
    "\n",
    "bp = plt.boxplot( data, 0, '', boxprops = dict(linestyle='-', linewidth=1, color=cs[0]), whiskerprops = dict(linestyle='-',linewidth=1.0 , color=cs[0]), patch_artist=True)\n",
    "\n",
    "colors = [cs[0], cs[0], cs[0], cs[0], cs[0], cs[0]]\n",
    "for patch, color in zip(bp['boxes'], colors):\n",
    "    patch.set_facecolor(color)\n",
    "    patch.set_alpha(0.3)\n",
    "\n",
    "for element in ['boxes', 'whiskers', 'fliers', 'means', 'medians', 'caps']:\n",
    "        plt.setp(bp[element], color = cs[0])\n",
    "\n",
    "x = np.ones( l ) * 7.\n",
    "plt.plot( x, mod_vals, 'o', markerfacecolor = 'None', alpha = 0.7, markeredgecolor = 'k', markersize = 8)#markeredgecolor = cs[2], markersize = 8 )\n",
    "\n",
    "plt.ylim([0., 3.6])\n",
    "plt.ylabel(\"TCR [K]\", fontsize = 14)\n",
    "\n",
    "plt.xlim([0.5, 7.5])\n",
    "\n",
    "plt.xticks([1., 2., 3., 4., 5., 6., 7.], [\"$F$\", \"$\\\\lambda$\", \"$\\\\gamma$\", \"$\\\\epsilon$\",\"$c$\", \"$c_0$\", \"Models\"], fontsize = 14)\n",
    "\n",
    "ax.tick_params( axis = 'x', which = 'both', bottom=\"on\", top = \"off\", labelbottom = \"on\", direction = 'out')                  \n",
    "ax.tick_params( axis = 'y', which = 'both', bottom=\"off\", top=\"off\",  labelbottom=\"off\", left=\"on\", right=\"off\", labelleft=\"on\", direction = 'out')                                                                                        \n",
    "\n",
    "ax.tick_params(length = 5, which = 'both')\n",
    "\n",
    "majorLocator = MultipleLocator(1)\n",
    "minorLocator = MultipleLocator(.5)\n",
    "\n",
    "ax.yaxis.set_major_locator(majorLocator)\n",
    "ax.yaxis.set_minor_locator(minorLocator)\n",
    "\n",
    "#Plot!\n",
    "data = [mean_T2[0, :, 70], mean_T2[1, :, 70], mean_T2[2, :, 70], mean_T2[3, :, 70], mean_T2[4, :, 70], mean_T2[5, :, 70] ]\n",
    "\n",
    "ax = plt.subplot(2, 2, 4 )\n",
    "plt.title(\"c)\", fontsize = 14)\n",
    "\n",
    "bp = plt.boxplot( data, 0, '', boxprops = dict(linestyle='-', linewidth=1, color=cs[0]), whiskerprops = dict(linestyle='-',linewidth=1.0 , color=cs[0]), patch_artist=True)\n",
    "\n",
    "colors = [cs[0], cs[0], cs[0], cs[0], cs[0], cs[0]]\n",
    "for patch, color in zip(bp['boxes'], colors):\n",
    "    patch.set_facecolor(color)\n",
    "    patch.set_alpha(0.3)\n",
    "\n",
    "for element in ['boxes', 'whiskers', 'fliers', 'means', 'medians', 'caps']:\n",
    "        plt.setp(bp[element], color = cs[0])\n",
    "\n",
    "x = np.ones( l ) * 7.\n",
    "plt.plot( x, mod_vals, 'o', markerfacecolor = 'None', alpha = 0.7, markeredgecolor = 'k', markersize = 8)#markeredgecolor = cs[2], markersize = 8 )\n",
    "\n",
    "plt.ylim([0., 3.6])\n",
    "plt.ylabel(\"TCR [K]\", fontsize = 14)\n",
    "\n",
    "plt.xlim([0.5, 7.5])\n",
    "\n",
    "plt.xticks([1., 2., 3., 4., 5., 6., 7.], [\"$F$\", \"$\\\\lambda$\", \"$\\\\gamma$\", \"$\\\\epsilon$\",\"$c$\", \"$c_0$\", \"Models\"], fontsize = 14)\n",
    "\n",
    "ax.tick_params( axis = 'x', which = 'both', bottom=\"on\", top = \"off\", labelbottom = \"on\", direction = 'out')                  \n",
    "ax.tick_params( axis = 'y', which = 'both', bottom=\"off\", top=\"off\",  labelbottom=\"off\", left=\"on\", right=\"off\", labelleft=\"on\", direction = 'out')                                                                                        \n",
    "\n",
    "ax.tick_params(length = 5, which = 'both')\n",
    "\n",
    "majorLocator = MultipleLocator(1)\n",
    "minorLocator = MultipleLocator(.5)\n",
    "\n",
    "ax.yaxis.set_major_locator(majorLocator)\n",
    "ax.yaxis.set_minor_locator(minorLocator)\n",
    "\n",
    "plt.savefig(\"eps_TCR_uncertainty_comp.png\")\n",
    "plt.show()\n"
   ]
  },
  {
   "cell_type": "markdown",
   "metadata": {},
   "source": [
    "# Time dependence"
   ]
  },
  {
   "cell_type": "code",
   "execution_count": 287,
   "metadata": {},
   "outputs": [
    {
     "name": "stderr",
     "output_type": "stream",
     "text": [
      "/home/nick/anaconda2/lib/python2.7/site-packages/ipykernel_launcher.py:23: RuntimeWarning: invalid value encountered in divide\n",
      "/home/nick/anaconda2/lib/python2.7/site-packages/ipykernel_launcher.py:24: RuntimeWarning: invalid value encountered in divide\n",
      "/home/nick/anaconda2/lib/python2.7/site-packages/ipykernel_launcher.py:25: RuntimeWarning: invalid value encountered in divide\n",
      "/home/nick/anaconda2/lib/python2.7/site-packages/ipykernel_launcher.py:26: RuntimeWarning: invalid value encountered in divide\n",
      "/home/nick/anaconda2/lib/python2.7/site-packages/ipykernel_launcher.py:27: RuntimeWarning: invalid value encountered in divide\n"
     ]
    },
    {
     "data": {
      "image/png": "[encoded data removed]",
      "text/plain": [
       "<Figure size 432x288 with 1 Axes>"
      ]
     },
     "metadata": {
      "needs_background": "light"
     },
     "output_type": "display_data"
    }
   ],
   "source": [
    "times = np.arange( 1, 142, 1 )\n",
    "\n",
    "mean_T2 = np.ma.masked_where( mean_T2 > 20., mean_T2 ) #Take out places where it blows up\n",
    "ratio = np.zeros( ( t, v ) )\n",
    "for h in range( t ):\n",
    "    for k in range( v ):\n",
    "        ratio[h, k] = np.std( mean_T2[k, :, h] ) \n",
    "\n",
    "        \n",
    "cs = [(31, 119, 180), (174, 199, 232), (255, 127, 14), (255, 187, 120),    \n",
    "             (44, 160, 44), (152, 223, 138), (214, 39, 40), (255, 152, 150),    \n",
    "             (148, 103, 189), (197, 176, 213), (140, 86, 75), (196, 156, 148),    \n",
    "             (227, 119, 194), (247, 182, 210), (127, 127, 127), (199, 199, 199),    \n",
    "             (188, 189, 34), (219, 219, 141), (23, 190, 207), (158, 218, 229)]    \n",
    "  \n",
    "# Scale the RGB values to the [0, 1] range, which is the format matplotlib accepts.    \n",
    "for i in range(len(cs)):    \n",
    "    r, g, b = cs[i]    \n",
    "    cs[i] = (r / 255., g / 255., b / 255.)    \n",
    "\n",
    "ax = plt.subplot(1, 1, 1)\n",
    "\n",
    "plt.plot( times[:], ratio[:, 1] / ratio[:, 0], color = cs[0], linewidth = 2. )\n",
    "plt.plot( times[:], ratio[:, 2] / ratio[:, 0], '--', color = cs[1], linewidth = 2. )\n",
    "plt.plot( times[:], ratio[:, 3] / ratio[:, 0], color = cs[16], linewidth = 2. )\n",
    "plt.plot( times[:], ratio[:, 4] / ratio[:, 0], ':', color = cs[14], linewidth = 3. )\n",
    "plt.plot( times[:], ratio[:, 5] / ratio[:, 0], '-.', color = cs[12], linewidth = 2 )\n",
    "\n",
    "plt.legend([\"$\\lambda / F$\", \"$\\gamma / F$\", \"$\\epsilon / F$\", \"$C / F$\", \"$C_0 / F$\"], fontsize = 14, frameon = False, loc = \"upper right\", ncol = 3 )\n",
    "\n",
    "plt.ylim([0., 1.0])\n",
    "plt.ylabel(\"Ratio\", fontsize = 14)\n",
    "\n",
    "plt.xlim([0., 142])\n",
    "plt.xlabel(\"Year\", fontsize = 14)\n",
    "\n",
    "#plt.axhline( y = 1., color = 'k', linestyle = '--' )\n",
    "\n",
    "ax.tick_params( axis = 'x', which = 'both', bottom=\"on\", top = \"off\", labelbottom = \"on\", direction = 'out')                  \n",
    "ax.tick_params( axis = 'y', which = 'both', bottom=\"off\", top=\"off\",  labelbottom=\"off\", left=\"on\", right=\"off\", labelleft=\"on\", direction = 'out')                                                                                        \n",
    "\n",
    "ax.tick_params(length = 5, which = 'both')\n",
    "\n",
    "majorLocator = MultipleLocator(.2)\n",
    "minorLocator = MultipleLocator(.05)\n",
    "\n",
    "ax.yaxis.set_major_locator(majorLocator)\n",
    "ax.yaxis.set_minor_locator(minorLocator)\n",
    "\n",
    "majorLocator = MultipleLocator(20)\n",
    "minorLocator = MultipleLocator(5)\n",
    "\n",
    "ax.xaxis.set_major_locator(majorLocator)\n",
    "ax.xaxis.set_minor_locator(minorLocator)\n",
    "\n",
    "ax.spines['top'].set_color('none')\n",
    "ax.spines['right'].set_color('none')\n",
    "\n",
    "plt.savefig(\"time_scale_uncertainty.png\" )\n",
    "plt.show()\n",
    "\n"
   ]
  },
  {
   "cell_type": "markdown",
   "metadata": {},
   "source": [
    "# Tuning example"
   ]
  },
  {
   "cell_type": "code",
   "execution_count": 288,
   "metadata": {},
   "outputs": [],
   "source": [
    "import scipy.signal as sst\n",
    "\n",
    "def butter_lowpass( cutoff, fs, order):\n",
    "    nyq = 0.5 * fs\n",
    "    normal_cutoff = cutoff / nyq\n",
    "    b, a = sst.butter(order, normal_cutoff, btype='low')\n",
    "    return b, a\n",
    "\n",
    "def butter_low( data, cutoff, fs, order):\n",
    "    b, a = butter_lowpass(cutoff, fs, order)\n",
    "    y = sst.lfilter(b, a, data)\n",
    "    return y"
   ]
  },
  {
   "cell_type": "code",
   "execution_count": 289,
   "metadata": {},
   "outputs": [],
   "source": [
    "#Load GMST\n",
    "l = 168\n",
    "f = open(\"historical_data/HADCRUT_data.dat\", \"r\")\n",
    "had_mean = np.zeros( l )\n",
    "for i in range( l ):\n",
    "    next = f.readline()\n",
    "    had_mean[i] = float( next[6:14] )\n",
    "\n",
    "f.close()\n",
    "\n",
    "had_mean = butter_low( had_mean, 1. / 4., 1., 3. ) #Smooth annual mean_data\n",
    "\n",
    "#Load CO2 concentrations\n",
    "l = 700\n",
    "year = np.zeros( l )\n",
    "rcp = np.zeros( l )\n",
    "f = open( \"historical_data/RCP45_MIDYEAR_CONCENTRATIONS.DAT\", 'r' )\n",
    "for i in range( l ):\n",
    "    next = f.readline()\n",
    "    year[i] =  float(next[:10])\n",
    "    rcp[ i] =  float(next[16:30])\n",
    "rcp = rcp[135:240]\n",
    "f.close()\n",
    "\n",
    "#Load forcing estimate\n",
    "l = 240\n",
    "year = np.zeros( l )\n",
    "forc = np.zeros( l )\n",
    "f = open( \"historical_data/20THCENTURY_MIDYEAR_RADFORCING.DAT\", 'r' )\n",
    "for i in range( l ):\n",
    "    next = f.readline()\n",
    "    year[i] =  float(next[:10])\n",
    "    forc[ i] =  float(next[75:90])\n",
    "\n",
    "forc = forc[135:]\n",
    "year = year[135:]"
   ]
  },
  {
   "cell_type": "code",
   "execution_count": 321,
   "metadata": {},
   "outputs": [],
   "source": [
    "def forcing2( co2, f, ico2 ):\n",
    "    #Convert CO2 value to forcing\n",
    "    return np.log( co2 / ico2 ) * f \n",
    "\n",
    "nf = (forc[104] - forc[0]) / np.log(rcp[104] / rcp[0]) #Scale CO2 forcing for net historical forcing\n",
    "std_1 = var_std[0] * nf / var_mean[0] #Scale standard deviation\n",
    "forc_h = forc[0] + forcing2( rcp, nf + std_1 , rcp[0] )\n",
    "forc_l = forc[0] + forcing2( rcp, nf - std_1 , rcp[0] )\n"
   ]
  },
  {
   "cell_type": "code",
   "execution_count": 322,
   "metadata": {},
   "outputs": [
    {
     "data": {
      "image/png": "[encoded data removed]",
      "text/plain": [
       "<Figure size 1080x360 with 1 Axes>"
      ]
     },
     "metadata": {
      "needs_background": "light"
     },
     "output_type": "display_data"
    }
   ],
   "source": [
    "cs = [(31 / 255., 119 / 255., 180 / 255.), (44. / 255., 160 / 255., 44 / 255.), (214 / 255., 39 / 255., 40 / 255.), (255 / 255., 127 / 255., 14 / 255.) ]\n",
    "\n",
    "fig = plt.figure( figsize = (15, 5) )\n",
    "plt.subplots_adjust(left = 0.2, right = 0.95, bottom = 0.12, top = 0.95, wspace = 0.5)\n",
    "\n",
    "\n",
    "ax = plt.subplot(1, 2, 1)\n",
    "plt.title( \"a)\" )\n",
    "\n",
    "diff = forc - forcing2( rcp, var_mean[0] , rcp[0] ) \n",
    "\n",
    "plt.plot( year, forc, 'k', linewidth = 2. )\n",
    "ax.fill_between(year, forc_l, forc_h, color=cs[3], hatch=\"...\",edgecolor=cs[3], zorder = 2, alpha = 0.3)\n",
    "\n",
    "plt.ylim([0., 2.])\n",
    "plt.ylabel(\"$\\Delta F$ [Wm$^{2}$]\", fontsize = 14)\n",
    "\n",
    "plt.xlim([1900., 2005])\n",
    "plt.xlabel(\"Year\", fontsize = 14)\n",
    "\n",
    "ax.tick_params( axis = 'x', which = 'both', bottom=\"on\", top = \"off\", labelbottom = \"on\", direction = 'out')                  \n",
    "ax.tick_params( axis = 'y', which = 'both', bottom=\"off\", top=\"off\",  labelbottom=\"off\", left=\"on\", right=\"off\", labelleft=\"on\", direction = 'out')                                                                                        \n",
    "\n",
    "ax.tick_params(length = 5, which = 'both')\n",
    "\n",
    "majorLocator = MultipleLocator(0.4)\n",
    "minorLocator = MultipleLocator(0.1)\n",
    "\n",
    "ax.yaxis.set_major_locator(majorLocator)\n",
    "ax.yaxis.set_minor_locator(minorLocator)\n",
    "\n",
    "majorLocator = MultipleLocator(20)\n",
    "minorLocator = MultipleLocator(5)\n",
    "\n",
    "ax.xaxis.set_major_locator(majorLocator)\n",
    "ax.xaxis.set_minor_locator(minorLocator)\n",
    "\n",
    "ax.spines['top'].set_color('none')\n",
    "ax.spines['right'].set_color('none')\n"
   ]
  },
  {
   "cell_type": "code",
   "execution_count": 340,
   "metadata": {},
   "outputs": [],
   "source": [
    "nf = 20\n",
    "t = 105\n",
    "nforc = np.zeros( ( 20, t))\n",
    "\n",
    "nforc[:] = np.linspace( forc_l, forc_h, nf )\n",
    "\n",
    "ran_lam = np.zeros( nf )\n",
    "\n",
    "for k in range( nf ):\n",
    "    lam_est = np.arange(0.1, 2.01, 0.01 )\n",
    "    l = len( lam_est )\n",
    "    ts = np.zeros( ( l, t ) )\n",
    "\n",
    "    for j in range( l ):\n",
    "        T_1 = np.zeros( t )\n",
    "        T_2 = np.zeros( t )\n",
    "\n",
    "        for i in range( 1, t ):\n",
    "            T_1[i] = T_1[i - 1] + 1. / var_mean[4] * ( nforc[k, i - 1] - lam_est[j] * T_1[i - 1] - var_mean[2] * var_mean[3] * (T_1[i - 1] - T_2[i - 1]) )\n",
    "            T_2[i] = T_2[i - 1] + 1. / var_mean[5] * ( var_mean[2] * (T_1[i - 1] - T_2[i - 1]) )\n",
    "        ts[j] = T_1\n",
    "\n",
    "    rms = np.zeros( l )\n",
    "    for i in range( l ):\n",
    "        #Subtract mean value as comparing with anomalous GMST relative to mid-century mean\n",
    "        #N.B the final slope is sensitive to this value\n",
    "        rms[i] = np.sqrt( np.sum( ( ts[i] - had_mean[50:155] - 0.55 ) ** 2 ) )\n",
    "    \n",
    "    for i in range( l ):\n",
    "        if rms[i] == min( rms ):\n",
    "            a = i\n",
    "    ran_lam[k] = lam_est[a]\n"
   ]
  },
  {
   "cell_type": "code",
   "execution_count": 341,
   "metadata": {},
   "outputs": [
    {
     "data": {
      "image/png": "[encoded data removed]",
      "text/plain": [
       "<Figure size 432x288 with 1 Axes>"
      ]
     },
     "metadata": {
      "needs_background": "light"
     },
     "output_type": "display_data"
    }
   ],
   "source": [
    "def lin_regression(var1, var2):\n",
    "    \"\"\"\n",
    "    Regresses var1 onto var2\n",
    "    Returns: slope, intercept, r_value, p_value, std_err\n",
    "    \"\"\"\n",
    "    #print \"Linear regression\"\n",
    "    return ss.linregress(var1, var2)\n",
    "\n",
    "ax = plt.subplot( 1, 2, 2)\n",
    "plt.title( \"b)\" )\n",
    "\n",
    "forc_range = (nforc[:, t - 1] - np.mean(nforc[:, t - 1]) ) / np.mean(nforc[:, t - 1])\n",
    "slope, inter = lin_regression(forc_range, (ran_lam[:] - np.mean(ran_lam[:]) ) / np.mean(ran_lam[:]) )[:2]\n",
    "\n",
    "x = np.linspace( -1., 1., 10 )\n",
    "\n",
    "plt.plot( x * 100., inter + slope * x * 100., color = 'k', linewidth = 1.5, alpha = 0.3 )\n",
    "plt.plot( forc_range * 100., (ran_lam[:] - np.mean(ran_lam[:]) ) / np.mean(ran_lam[:]) * 100., 'o', markerfacecolor = 'None', markersize = 6., markeredgecolor = 'k', alpha = 0.7, markeredgewidth = 1.5)#markerfacecolor = 'None', markeredgecolor = 'k', markersize = 8. )\n",
    "\n",
    "\n",
    "plt.text( -5, -18, r\"slope = %1.2f\" % slope, fontsize = 14 )\n",
    "\n",
    "\n",
    "plt.ylim([-21, 21])\n",
    "plt.xlim([-21, 21])\n",
    "\n",
    "plt.ylabel(\"% change in $\\lambda$\", fontsize = 14)\n",
    "plt.xlabel(\"% change in $\\Delta F$ at end of 20th century\", fontsize = 14)\n",
    "\n",
    "ax.tick_params( axis = 'x', which = 'both', bottom=\"on\", top = \"off\", labelbottom = \"on\", direction = 'out')                  \n",
    "ax.tick_params( axis = 'y', which = 'both', bottom=\"off\", top=\"off\",  labelbottom=\"off\", left=\"on\", right=\"off\", labelleft=\"on\", direction = 'out')                                                                                        \n",
    "\n",
    "ax.tick_params(length = 5, which = 'both')\n",
    "\n",
    "majorLocator = MultipleLocator(5.)\n",
    "minorLocator = MultipleLocator(2.5)\n",
    "\n",
    "ax.yaxis.set_major_locator(majorLocator)\n",
    "ax.yaxis.set_minor_locator(minorLocator)\n",
    "\n",
    "ax.xaxis.set_major_locator(majorLocator)\n",
    "ax.xaxis.set_minor_locator(minorLocator)\n",
    "\n",
    "ax.spines['top'].set_color('none')\n",
    "ax.spines['right'].set_color('none')\n",
    "\n",
    "plt.savefig(\"brute_search_result.png\")\n",
    "plt.show()\n",
    "\n"
   ]
  },
  {
   "cell_type": "code",
   "execution_count": null,
   "metadata": {},
   "outputs": [],
   "source": []
  }
 ],
 "metadata": {
  "kernelspec": {
   "display_name": "Python 2",
   "language": "python",
   "name": "python2"
  },
  "language_info": {
   "codemirror_mode": {
    "name": "ipython",
    "version": 2
   },
   "file_extension": ".py",
   "mimetype": "text/x-python",
   "name": "python",
   "nbconvert_exporter": "python",
   "pygments_lexer": "ipython2",
   "version": "2.7.16"
  }
 },
 "nbformat": 4,
 "nbformat_minor": 2
}
